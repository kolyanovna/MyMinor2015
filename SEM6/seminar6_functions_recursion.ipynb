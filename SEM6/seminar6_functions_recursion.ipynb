{
 "cells": [
  {
   "cell_type": "markdown",
   "metadata": {},
   "source": [
    "# Майнор \"Интеллектуальный анализ данных\", курс \"Введение в программирование\". "
   ]
  },
  {
   "cell_type": "markdown",
   "metadata": {},
   "source": [
    "<img src=\"../img/faculty_logo.jpg\" height=\"240\" width=\"240\">"
   ]
  },
  {
   "cell_type": "markdown",
   "metadata": {},
   "source": [
    "# Семинар 6. Функции. Рекурсия"
   ]
  },
  {
   "cell_type": "markdown",
   "metadata": {},
   "source": [
    "# Функции\n",
    "\n",
    "## План\n",
    "\n",
    "1. Объявление функции. Встроенные функции. Вызов функции. Передача аргументов.\n",
    "2. Глобальные и локальные переменные\n",
    "3. Функции и неизменяемые типы (int, string, tuple)\n",
    "4. Функции и изменяемые типы (list, dict, set)\n",
    "5. Именованные аргументы\n",
    "6. Обработка переменного числа аргументов\n",
    "7. Возврат данных из функции с помощью Return\n",
    "9. Ссылка на функции\n",
    "10. Рекурсивные функции\n",
    "11. Лямбда-функции\n",
    "12. Генераторы"
   ]
  },
  {
   "cell_type": "markdown",
   "metadata": {},
   "source": [
    "## 1. Объявление функции\n",
    "\n",
    "def <название_функции> ( <параметр1>,<параметр2>,...,<параметрN>):\n",
    "\n",
    "    <Оператор1>\n",
    "    <Оператор2>\n",
    "    ....\n",
    "    <ОператорN>\n",
    "    return [Выражение]"
   ]
  },
  {
   "cell_type": "code",
   "execution_count": 1,
   "metadata": {},
   "outputs": [
    {
     "name": "stdout",
     "output_type": "stream",
     "text": [
      "Hi dear Andrew\n",
      "Hi dear me\n",
      "0\n"
     ]
    },
    {
     "data": {
      "text/plain": [
       "3"
      ]
     },
     "execution_count": 1,
     "output_type": "execute_result",
     "metadata": {}
    }
   ],
   "source": [
    "# Простейшая функция. Ничего не принимает в качестве аргументов и ничего не делает\n",
    "def do_nothing():\n",
    "    pass\n",
    "\n",
    "# вызов функции\n",
    "do_nothing()\n",
    "\n",
    "# Передача параметра\n",
    "def say_hi_to(name): \n",
    "    print(\"Hi dear\", name)\n",
    "    return 0\n",
    "\n",
    "name = \"Andrew\"\n",
    "var1 = \"String\"\n",
    "say_hi_to(name)\n",
    "var1 = say_hi_to(\"me\")\n",
    "print(var1)\n",
    "\n",
    "# Существует большое количество встроенных функций (bult in) \n",
    "# Больше функций на https://docs.python.org/3/library/functions.html )\n",
    "# Например функция определения длины списка\n",
    "ls = [1,2,3]\n",
    "len(ls)"
   ]
  },
  {
   "cell_type": "markdown",
   "metadata": {},
   "source": [
    "# 2. Локальные переменные"
   ]
  },
  {
   "cell_type": "code",
   "execution_count": 2,
   "metadata": {},
   "outputs": [
    {
     "name": "stdout",
     "output_type": "stream",
     "text": [
      "Outside\n"
     ]
    }
   ],
   "source": [
    "# Функции имеют права на чтение к объявленным до функции переменным \n",
    "# и не имеют к объявленным после вызова функции\n",
    "def f(): \n",
    "    print(s)\n",
    "    #s = \"Inside\" #Однако не могут их менять\n",
    "    #print(s)  #Error\n",
    "    #print(k) #Error\n",
    "    \n",
    "s = \"Outside\"\n",
    "f()\n",
    "k = \"Outside\""
   ]
  },
  {
   "cell_type": "code",
   "execution_count": 3,
   "metadata": {},
   "outputs": [
    {
     "name": "stdout",
     "output_type": "stream",
     "text": [
      "Outside\n",
      "Inside\n",
      "===========\n",
      "Outside\n"
     ]
    }
   ],
   "source": [
    "# При объявлении в функции переменной с тем же именем создается новая(внутренняя) переменная, \n",
    "# не связанная с внешней\n",
    "def f(): \n",
    "    print(k) # Так можно. Тут переменная К не объявляется\n",
    "    #print(s) #Тем не менее попытка обращения к переменной которая потом будет создана вызывает ошибку\n",
    "    s = \"Inside\" \n",
    "    print(s)\n",
    "    print(\"===========\")\n",
    "    \n",
    "k = \"Outside\"\n",
    "s = \"Outside\" \n",
    "f()\n",
    "print(s)"
   ]
  },
  {
   "cell_type": "code",
   "execution_count": 4,
   "metadata": {},
   "outputs": [
    {
     "name": "stdout",
     "output_type": "stream",
     "text": [
      "Outside\n",
      "Inside\n",
      "=======================\n",
      "Inside\n"
     ]
    }
   ],
   "source": [
    "def f():\n",
    "    global s # Для изменения внешних переменных внутри функции их надо объявить глобальной.\n",
    "    print(s)\n",
    "    s = \"Inside\"\n",
    "    print(s)\n",
    "    print(\"=======================\")\n",
    "\n",
    "\n",
    "s = \"Outside\"\n",
    "f()\n",
    "print(s)"
   ]
  },
  {
   "cell_type": "markdown",
   "metadata": {},
   "source": [
    "## 3. Передача в функции неизменяемых типов (str, int, tuple)\n",
    "\n",
    "Передача происходит по значению, т.е внешняя переменная не зависит от внутренней (локальной) функции"
   ]
  },
  {
   "cell_type": "code",
   "execution_count": 5,
   "metadata": {},
   "outputs": [
    {
     "name": "stdout",
     "output_type": "stream",
     "text": [
      "Outside\n",
      "10\n",
      "Inside\n",
      "4\n",
      "=========\n",
      "Outside\n",
      "10\n"
     ]
    }
   ],
   "source": [
    "def func(arg,arg2):\n",
    "    print(arg)\n",
    "    print(arg2)\n",
    "    arg = \"Inside\"\n",
    "    arg2 = 4\n",
    "    print(arg)\n",
    "    print(arg2)\n",
    "    print(\"=========\")\n",
    "\n",
    "\n",
    "var1 = \"Outside\"\n",
    "var2 = 10\n",
    "func(var1,var2)\n",
    "print(var1) # значение переменной вне функции не изменилось\n",
    "print(var2)"
   ]
  },
  {
   "cell_type": "markdown",
   "metadata": {},
   "source": [
    "## 4. Передача в функции изменяемых типов (list, dict, set)\n",
    "\n",
    "Передача параметров изменяемых типов происходит по ссылке, т.е изменения в функции влияют на внешние переменные"
   ]
  },
  {
   "cell_type": "code",
   "execution_count": 6,
   "metadata": {},
   "outputs": [
    {
     "name": "stdout",
     "output_type": "stream",
     "text": [
      "List outside:  [10, 20, 30]\n",
      "Dict outside:  {1: 'a', 2: 'b'}\n",
      "==================\n",
      "List inside:  [10, 20, 30, [1, 2, 3, 4]]\n",
      "Dict inside:  {1: 'ccc', 2: 'b'}\n",
      "====================\n",
      "List outside:  [10, 20, 30, [1, 2, 3, 4]]\n",
      "Dict outside:  {1: 'ccc', 2: 'b'}\n"
     ]
    }
   ],
   "source": [
    "def changeme(mylist,mydict):\n",
    "    mylist.append([1,2,3,4])\n",
    "    mydict[1]=\"ccc\"\n",
    "    print(\"List inside: \", mylist)\n",
    "    print(\"Dict inside: \", mydict)\n",
    "    print(\"====================\")\n",
    "\n",
    "l1 = [10,20,30]\n",
    "d1 = {1:\"a\",2:\"b\"}\n",
    "print(\"List outside: \", l1)\n",
    "print(\"Dict outside: \", d1)\n",
    "print(\"==================\")\n",
    "changeme(l1,d1);\n",
    "print(\"List outside: \", l1)\n",
    "print(\"Dict outside: \", d1)"
   ]
  },
  {
   "cell_type": "markdown",
   "metadata": {},
   "source": [
    "## 5. Именованные аргументы"
   ]
  },
  {
   "cell_type": "code",
   "execution_count": 7,
   "metadata": {},
   "outputs": [
    {
     "name": "stdout",
     "output_type": "stream",
     "text": [
      "First name: Brian\n",
      "Last name: Kernighan\n",
      "Age: 71\n",
      "\n"
     ]
    }
   ],
   "source": [
    "def describe_person(first_name, last_name, age):\n",
    "    print(\"First name: %s\" % first_name.title())\n",
    "    print(\"Last name: %s\" % last_name.title())\n",
    "    print(\"Age: %d\\n\" % age)\n",
    "\n",
    "describe_person(age=71, first_name='brian', last_name='kernighan')"
   ]
  },
  {
   "cell_type": "code",
   "execution_count": 8,
   "metadata": {},
   "outputs": [
    {
     "name": "stdout",
     "output_type": "stream",
     "text": [
      "-- This parrot wouldn't voom if you put 1000 volts through it.\n",
      "-- Lovely plumage, the Norwegian Blue\n",
      "-- It's a stiff !\n",
      "-- This parrot wouldn't voom if you put 1000 volts through it.\n",
      "-- Lovely plumage, the Norwegian Blue\n",
      "-- It's a stiff !\n",
      "-- This parrot wouldn't VOOOOOM if you put 1000000 volts through it.\n",
      "-- Lovely plumage, the Norwegian Blue\n",
      "-- It's a stiff !\n",
      "-- This parrot wouldn't VOOOOOM if you put 1000000 volts through it.\n",
      "-- Lovely plumage, the Norwegian Blue\n",
      "-- It's a stiff !\n",
      "-- This parrot wouldn't jump if you put a million volts through it.\n",
      "-- Lovely plumage, the Norwegian Blue\n",
      "-- It's bereft of life !\n",
      "-- This parrot wouldn't voom if you put a thousand volts through it.\n",
      "-- Lovely plumage, the Norwegian Blue\n",
      "-- It's pushing up the daisies !\n"
     ]
    }
   ],
   "source": [
    "def parrot(voltage, state='a stiff', action='voom', type='Norwegian Blue'):\n",
    "    print(\"-- This parrot wouldn't\", action, end=' ')\n",
    "    print(\"if you put\", voltage, \"volts through it.\")\n",
    "    print(\"-- Lovely plumage, the\", type)\n",
    "    print(\"-- It's\", state, \"!\")\n",
    "    \n",
    "parrot(1000)                                          # 1 positional argument\n",
    "parrot(voltage=1000)                                  # 1 keyword argument\n",
    "parrot(voltage=1000000, action='VOOOOOM')             # 2 keyword arguments\n",
    "parrot(action='VOOOOOM', voltage=1000000)             # 2 keyword arguments\n",
    "parrot('a million', 'bereft of life', 'jump')         # 3 positional arguments\n",
    "parrot('a thousand', state='pushing up the daisies')  # 1 positional, 1 keyword"
   ]
  },
  {
   "cell_type": "markdown",
   "metadata": {},
   "source": [
    "## 6. Переменное число аргументов"
   ]
  },
  {
   "cell_type": "code",
   "execution_count": 9,
   "metadata": {},
   "outputs": [
    {
     "name": "stdout",
     "output_type": "stream",
     "text": [
      "-- Do you have any Limburger ?\n",
      "-- I'm sorry, we're all out of Limburger\n",
      "It's very runny, sir.\n",
      "It's really very, VERY runny, sir.\n",
      "----------------------------------------\n",
      "client : John Cleese\n",
      "shopkeeper : Michael Palin\n",
      "sketch : Cheese Shop Sketch\n"
     ]
    }
   ],
   "source": [
    "def cheeseshop(kind, *arguments, **keywords):\n",
    "    print(\"-- Do you have any\", kind, \"?\")\n",
    "    print(\"-- I'm sorry, we're all out of\", kind)\n",
    "    for arg in arguments:\n",
    "        print(arg)\n",
    "    print(\"-\" * 40)\n",
    "    keys = sorted(keywords.keys())\n",
    "    for kw in keys:\n",
    "        print(kw, \":\", keywords[kw])\n",
    "\n",
    "cheeseshop(\"Limburger\", \"It's very runny, sir.\",\n",
    "           \"It's really very, VERY runny, sir.\",\n",
    "           shopkeeper=\"Michael Palin\",\n",
    "           client=\"John Cleese\",\n",
    "           sketch=\"Cheese Shop Sketch\")"
   ]
  },
  {
   "cell_type": "markdown",
   "metadata": {},
   "source": [
    "\n",
    "## 7. Возврат данных из функции с помощью Return"
   ]
  },
  {
   "cell_type": "code",
   "execution_count": 10,
   "metadata": {},
   "outputs": [
    {
     "name": "stdout",
     "output_type": "stream",
     "text": [
      "10\n",
      "10\n"
     ]
    }
   ],
   "source": [
    "def f1():\n",
    "    return 10\n",
    "    return 12\n",
    "x = f1()\n",
    "print(x)\n",
    "print(f1())"
   ]
  },
  {
   "cell_type": "markdown",
   "metadata": {},
   "source": [
    "## 8. Ссылка на функции\n"
   ]
  },
  {
   "cell_type": "code",
   "execution_count": 11,
   "metadata": {},
   "outputs": [
    {
     "name": "stdout",
     "output_type": "stream",
     "text": [
      "<function f1 at 0x7f10a8175620>\n",
      "10\n"
     ]
    }
   ],
   "source": [
    "def f1():\n",
    "    return 10\n",
    "\n",
    "def f2(func):\n",
    "    print(func())\n",
    "\n",
    "x = f1\n",
    "print(x)\n",
    "\n",
    "f2(x)"
   ]
  },
  {
   "cell_type": "markdown",
   "metadata": {},
   "source": [
    "## 9. Рекурсивные функции\n",
    "\n",
    "Рекурсивная функция - это функция которая вызывает в теле сама себя"
   ]
  },
  {
   "cell_type": "code",
   "execution_count": 12,
   "metadata": {},
   "outputs": [
    {
     "name": "stdout",
     "output_type": "stream",
     "text": [
      "10\n"
     ]
    }
   ],
   "source": [
    "def f1(j):\n",
    "    j=j+1\n",
    "    if j==10:\n",
    "        print(j)\n",
    "        return\n",
    "    else:\n",
    "        f1(j)\n",
    "\n",
    "i=0\n",
    "f1(i)"
   ]
  },
  {
   "cell_type": "code",
   "execution_count": 13,
   "metadata": {},
   "outputs": [
    {
     "name": "stdout",
     "output_type": "stream",
     "text": [
      "0 1\n",
      "1 2\n",
      "2 6\n",
      "3 24\n",
      "4 120\n",
      "5 720\n",
      "6 5040\n",
      "7 40320\n",
      "8 362880\n"
     ]
    }
   ],
   "source": [
    "def factorial(n):\n",
    "    if n == 1:\n",
    "        return 1\n",
    "    else:\n",
    "        return n * factorial(n-1)\n",
    "\n",
    "# 4! = 4 * 3 * 2 * 1 = 24\n",
    "for i,k in enumerate(range(1,10)):\n",
    "    print(i,factorial(k))"
   ]
  },
  {
   "cell_type": "code",
   "execution_count": 14,
   "metadata": {},
   "outputs": [],
   "source": [
    "def fib(n):\n",
    "    if n in (0, 1):\n",
    "        return n\n",
    "    else:\n",
    "        return fib(n-1) + fib(n-2)"
   ]
  },
  {
   "cell_type": "code",
   "execution_count": 15,
   "metadata": {},
   "outputs": [
    {
     "name": "stdout",
     "output_type": "stream",
     "text": [
      "0\n",
      "1\n",
      "1\n",
      "2\n",
      "3\n",
      "5\n",
      "8\n",
      "13\n",
      "21\n",
      "34\n",
      "55\n"
     ]
    }
   ],
   "source": [
    "for i in range(11):\n",
    "    print(fib(i))"
   ]
  },
  {
   "cell_type": "markdown",
   "metadata": {},
   "source": [
    "## 10. Лямбда функции"
   ]
  },
  {
   "cell_type": "code",
   "execution_count": 16,
   "metadata": {},
   "outputs": [
    {
     "name": "stdout",
     "output_type": "stream",
     "text": [
      "<function make_incrementor.<locals>.<lambda> at 0x7f10a8175bf8>\n",
      "44\n"
     ]
    }
   ],
   "source": [
    "def make_incrementor(n):\n",
    "    return lambda x: x + n\n",
    "\n",
    "f = make_incrementor(42)\n",
    "print(f)\n",
    "\n",
    "print(f(2))"
   ]
  },
  {
   "cell_type": "markdown",
   "metadata": {},
   "source": [
    "## 11. Генератор"
   ]
  },
  {
   "cell_type": "code",
   "execution_count": 17,
   "metadata": {},
   "outputs": [
    {
     "name": "stdout",
     "output_type": "stream",
     "text": [
      "45\n"
     ]
    }
   ],
   "source": [
    "def firstn(n):\n",
    "    num, nums = 0, []\n",
    "    while num < n:\n",
    "        nums.append(num)\n",
    "        num += 1\n",
    "    return nums\n",
    "\n",
    "sum_of_first_n = sum(firstn(10))\n",
    "print(sum_of_first_n)"
   ]
  },
  {
   "cell_type": "markdown",
   "metadata": {},
   "source": [
    "С сокращенной нотацией списков мы уже сталкивались. Такую конструкцию также называют генератором списка."
   ]
  },
  {
   "cell_type": "code",
   "execution_count": 18,
   "metadata": {},
   "outputs": [
    {
     "name": "stdout",
     "output_type": "stream",
     "text": [
      "[0, 2, 4, 6, 8, 10, 12, 14, 16, 18, 20, 22, 24, 26, 28, 30, 32, 34, 36, 38, 40, 42, 44, 46, 48, 50, 52, 54, 56, 58, 60, 62, 64, 66, 68, 70, 72, 74, 76, 78, 80, 82, 84, 86, 88, 90, 92, 94, 96, 98]\n"
     ]
    }
   ],
   "source": [
    "doubles = [2 * n for n in range(50)]\n",
    "print(doubles)"
   ]
  },
  {
   "cell_type": "markdown",
   "metadata": {},
   "source": [
    "Но бывают и выражения-генераторы (синтаксис такой же, как для генератора списка, только скобки круглые). Это более эффективно, чем использование генератора списков."
   ]
  },
  {
   "cell_type": "code",
   "execution_count": 12,
   "metadata": {},
   "outputs": [
    {
     "name": "stdout",
     "output_type": "stream",
     "text": [
      "<generator object <genexpr> at 0x104b0edc8>\n",
      "1, 4, 9, "
     ]
    }
   ],
   "source": [
    "numbers = (1,2,3,4,5)\n",
    "squares_under_10 = (number*number for number in numbers if number*number < 10)\n",
    "print(squares_under_10)\n",
    "for i in squares_under_10:\n",
    "    print(i, end=', ')"
   ]
  }
 ],
 "metadata": {
  "kernelspec": {
   "display_name": "Python 3",
   "language": "python",
   "name": "python3"
  },
  "language_info": {
   "codemirror_mode": {
    "name": "ipython",
    "version": 3.0
   },
   "file_extension": ".py",
   "mimetype": "text/x-python",
   "name": "python",
   "nbconvert_exporter": "python",
   "pygments_lexer": "ipython3",
   "version": "3.4.3"
  },
  "name": "seminar6_functions_recursion.ipynb"
 },
 "nbformat": 4,
 "nbformat_minor": 0
}